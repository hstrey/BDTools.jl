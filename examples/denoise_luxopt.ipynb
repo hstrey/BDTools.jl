{
 "cells": [
  {
   "cell_type": "code",
   "execution_count": 1,
   "id": "8a1e4eee-17d1-4900-af0e-38960fe8ea5e",
   "metadata": {},
   "outputs": [
    {
     "name": "stderr",
     "output_type": "stream",
     "text": [
      "\u001b[32m\u001b[1m  Activating\u001b[22m\u001b[39m project at `~/Documents/programming/BDTools.jl/examples`\n"
     ]
    }
   ],
   "source": [
    "import Pkg\n",
    "Pkg.activate(\".\")"
   ]
  },
  {
   "cell_type": "code",
   "execution_count": 2,
   "id": "413534f9-7a86-40fa-86ce-abd065887c26",
   "metadata": {},
   "outputs": [
    {
     "name": "stderr",
     "output_type": "stream",
     "text": [
      "\u001b[32m\u001b[1m   Resolving\u001b[22m\u001b[39m package versions...\n",
      "\u001b[32m\u001b[1m  No Changes\u001b[22m\u001b[39m to `~/Documents/programming/BDTools.jl/examples/Project.toml`\n",
      "\u001b[32m\u001b[1m  No Changes\u001b[22m\u001b[39m to `~/Documents/programming/BDTools.jl/examples/Manifest.toml`\n"
     ]
    }
   ],
   "source": [
    "Pkg.add([\"Plots\",\n",
    "        \"Lux\",\n",
    "        \"ADTypes\",\n",
    "        \"MLUtils\",\"Zygote\",\"HDF5\",\n",
    "        \"Optimization\",\"OptimizationOptimJL\",\"OptimizationOptimisers\",\n",
    "        \"SciMLSensitivity\", \"ComponentArrays\"])"
   ]
  },
  {
   "cell_type": "code",
   "execution_count": 3,
   "id": "38ee800d-7d62-4b21-8e94-7452636b0105",
   "metadata": {},
   "outputs": [],
   "source": [
    "using HDF5: HDF5\n",
    "using Plots, Random, Lux, ADTypes, Zygote, Printf, MLUtils, Statistics\n",
    "using Optimization, Optimisers, OptimizationOptimisers, SciMLSensitivity, ComponentArrays"
   ]
  },
  {
   "cell_type": "code",
   "execution_count": 4,
   "id": "29751527-1707-40c3-a2a4-5f53cd1cc635",
   "metadata": {},
   "outputs": [
    {
     "data": {
      "text/plain": [
       "deserialize (generic function with 1 method)"
      ]
     },
     "execution_count": 4,
     "metadata": {},
     "output_type": "execute_result"
    }
   ],
   "source": [
    "struct GroundTruthCleaned\n",
    "    data::Array{Float64,3}\n",
    "end\n",
    "    \n",
    "function deserialize(filepath::String, ::Type{GroundTruthCleaned})\n",
    "    HDF5.h5open(filepath, \"r\") do io\n",
    "        GroundTruthCleaned(\n",
    "            io[\"GroundTruthCleaned/data\"] |> read\n",
    "        )\n",
    "    end\n",
    "end"
   ]
  },
  {
   "cell_type": "code",
   "execution_count": 5,
   "id": "34504639-6f74-441d-a9e1-2940e1c3e855",
   "metadata": {},
   "outputs": [
    {
     "data": {
      "text/plain": [
       "standardize"
      ]
     },
     "execution_count": 5,
     "metadata": {},
     "output_type": "execute_result"
    }
   ],
   "source": [
    "\"\"\"\n",
    "    standardize(data::AbstractArray; dims=1)\n",
    "\n",
    "Return standardized `data` over dimension `dims`.\n",
    "\"\"\"\n",
    "function standardize(data::AbstractArray; dims=1)\n",
    "    μ = mean(data, dims=dims)\n",
    "    σ = std(data, dims=dims, mean=μ)\n",
    "    (data.-μ) ./ σ, μ, σ\n",
    "end"
   ]
  },
  {
   "cell_type": "code",
   "execution_count": 6,
   "id": "02eafbd1-4a47-46cb-9715-8b6b790ee510",
   "metadata": {},
   "outputs": [
    {
     "data": {
      "text/plain": [
       "400×1×1056 Array{Float32, 3}:\n",
       "[:, :, 1] =\n",
       " -0.25204962\n",
       "  0.8046118\n",
       " -1.1035193\n",
       " -0.79414064\n",
       "  1.9682941\n",
       "  0.5637778\n",
       " -0.012230185\n",
       " -0.21458794\n",
       " -0.07579102\n",
       "  1.606328\n",
       " -0.5129932\n",
       " -0.49603918\n",
       "  1.8115286\n",
       "  ⋮\n",
       "  0.60853773\n",
       " -0.38985053\n",
       " -0.50285214\n",
       " -0.4290375\n",
       " -0.2008933\n",
       "  0.90451586\n",
       " -0.26445413\n",
       "  0.938424\n",
       " -1.2621317\n",
       "  1.3216174\n",
       "  1.6147438\n",
       "  1.8672619\n",
       "\n",
       "[:, :, 2] =\n",
       "  0.46098885\n",
       "  0.7983072\n",
       "  0.9000875\n",
       " -0.5965039\n",
       "  1.0699972\n",
       " -0.62849957\n",
       " -1.6455749\n",
       " -0.9128678\n",
       " -0.49982587\n",
       "  1.4695151\n",
       " -1.2132338\n",
       "  1.2019722\n",
       " -0.807777\n",
       "  ⋮\n",
       "  0.23529959\n",
       "  0.5053252\n",
       " -0.57064825\n",
       " -0.05665371\n",
       "  0.18813378\n",
       " -1.2495686\n",
       "  0.4842252\n",
       " -0.3646048\n",
       "  0.07366619\n",
       "  2.0850706\n",
       "  0.35293218\n",
       "  0.8921558\n",
       "\n",
       "[:, :, 3] =\n",
       "  0.2637831\n",
       " -0.953591\n",
       "  1.8452263\n",
       "  0.82109296\n",
       "  0.5363555\n",
       " -0.87426835\n",
       " -0.23479255\n",
       " -2.2671652\n",
       "  0.2375749\n",
       "  0.2216988\n",
       " -0.96207213\n",
       " -1.3896456\n",
       "  0.358906\n",
       "  ⋮\n",
       " -0.8054758\n",
       " -0.74574023\n",
       "  0.6919415\n",
       " -0.61785483\n",
       " -1.5915744\n",
       "  1.1232259\n",
       "  0.41837677\n",
       "  0.8646118\n",
       " -0.68044275\n",
       "  0.41274798\n",
       " -1.5104008\n",
       " -0.96333826\n",
       "\n",
       ";;; … \n",
       "\n",
       "[:, :, 1054] =\n",
       "  1.2556438\n",
       "  0.47701725\n",
       "  0.78989226\n",
       "  0.09632059\n",
       " -0.17908627\n",
       " -0.6883796\n",
       " -1.5662296\n",
       "  0.029498652\n",
       " -0.27425256\n",
       " -1.1379267\n",
       " -2.2213187\n",
       " -0.97997147\n",
       "  0.09836125\n",
       "  ⋮\n",
       "  0.061560303\n",
       "  0.23267712\n",
       " -1.183832\n",
       " -0.35356888\n",
       "  0.71058804\n",
       " -1.5209943\n",
       "  0.3511478\n",
       "  0.8979092\n",
       " -0.56112015\n",
       "  1.1054798\n",
       "  0.09296688\n",
       "  0.6184645\n",
       "\n",
       "[:, :, 1055] =\n",
       " -0.7809072\n",
       " -0.48130742\n",
       "  1.3145847\n",
       "  0.4841204\n",
       " -0.37250888\n",
       " -0.69025487\n",
       " -0.4534358\n",
       " -0.38403565\n",
       " -2.0515893\n",
       " -1.4380802\n",
       " -1.0181497\n",
       " -0.9068922\n",
       " -1.4391453\n",
       "  ⋮\n",
       "  0.840844\n",
       "  0.6434233\n",
       " -0.8567113\n",
       " -0.6565188\n",
       "  0.4330819\n",
       " -1.2658566\n",
       "  0.37307832\n",
       " -0.69281656\n",
       " -0.24149568\n",
       "  1.5125444\n",
       "  0.9070435\n",
       "  0.2701576\n",
       "\n",
       "[:, :, 1056] =\n",
       " -0.53318334\n",
       " -0.1288179\n",
       "  0.3041636\n",
       "  0.48432365\n",
       "  1.2321413\n",
       "  0.6872306\n",
       "  0.80538094\n",
       "  2.3593647\n",
       "  0.25936383\n",
       "  1.0262622\n",
       "  1.7740798\n",
       "  1.1242254\n",
       " -0.35088074\n",
       "  ⋮\n",
       " -2.536639\n",
       "  0.20512928\n",
       "  1.1008247\n",
       "  0.28877953\n",
       " -0.7474611\n",
       "  0.80175\n",
       " -0.12477428\n",
       " -0.6219833\n",
       " -1.0571826\n",
       " -0.8960982\n",
       " -0.3915617\n",
       " -1.532751"
      ]
     },
     "execution_count": 6,
     "metadata": {},
     "output_type": "execute_result"
    }
   ],
   "source": [
    "gt = deserialize(\"gt_clean.h5\", GroundTruthCleaned)\n",
    "ori64, ori_mean, ori_std = standardize(reshape(gt.data[:,:,1],\n",
    "    (size(gt.data[:,:,1])[1],1,size(gt.data[:,:,1])[2])))\n",
    "sim64, sim_mean, sim_std = standardize(reshape(gt.data[:,:,2],\n",
    "    (size(gt.data[:,:,2])[1],1,size(gt.data[:,:,2])[2])))\n",
    "ori = Float32.(ori64)\n",
    "sim = Float32.(sim64)"
   ]
  },
  {
   "cell_type": "code",
   "execution_count": 7,
   "id": "526beae8-9af3-4248-9da8-144ab6e49c9c",
   "metadata": {},
   "outputs": [
    {
     "data": {
      "text/plain": [
       "0.24442405f0"
      ]
     },
     "execution_count": 7,
     "metadata": {},
     "output_type": "execute_result"
    }
   ],
   "source": [
    "cor(vec(ori),vec(sim))"
   ]
  },
  {
   "cell_type": "code",
   "execution_count": 8,
   "id": "caca1793-803f-42ed-98e0-2fb79133f447",
   "metadata": {},
   "outputs": [
    {
     "data": {
      "text/plain": [
       "27-element DataLoader(::Tuple{Array{Float32, 3}, Array{Float32, 3}}, shuffle=true, batchsize=8)\n",
       "  with first element:\n",
       "  (400×1×8 Array{Float32, 3}, 400×1×8 Array{Float32, 3},)"
      ]
     },
     "execution_count": 8,
     "metadata": {},
     "output_type": "execute_result"
    }
   ],
   "source": [
    "(i_train, o_train), (i_test, o_test) = splitobs((ori, sim); at=0.8)\n",
    "train_dataloader = DataLoader(collect.((i_train, o_train)); batchsize=8, shuffle=true)\n",
    "test_dataloader = DataLoader(collect.((i_test, o_test)); batchsize=8, shuffle=true)"
   ]
  },
  {
   "cell_type": "code",
   "execution_count": 9,
   "id": "bef336b1-6509-4343-8ff7-4a4f934b2d8d",
   "metadata": {},
   "outputs": [
    {
     "data": {
      "text/plain": [
       "MersenneTwister(12345)"
      ]
     },
     "execution_count": 9,
     "metadata": {},
     "output_type": "execute_result"
    }
   ],
   "source": [
    "rng = MersenneTwister()\n",
    "Random.seed!(rng, 12345)"
   ]
  },
  {
   "cell_type": "code",
   "execution_count": 10,
   "id": "4dfa2dca-4762-4e72-8a05-4c1b815aa0f0",
   "metadata": {},
   "outputs": [
    {
     "data": {
      "text/plain": [
       "negr2 (generic function with 2 methods)"
      ]
     },
     "execution_count": 10,
     "metadata": {},
     "output_type": "execute_result"
    }
   ],
   "source": [
    "function negr2(y_pred, y_true)\n",
    "    SS_tot = sum(abs2, vec(y_true) .- mean(vec(y_true)))\n",
    "    return negr2(y_pred, y_true, SS_tot)\n",
    "end\n",
    "\n",
    "function negr2(y_pred, y_true, SS_tot)\n",
    "    SS_res =  sum(abs2, vec(y_true) .- vec(y_pred))\n",
    "    r2 = 1 - SS_res/(SS_tot + eps())\n",
    "    return -r2\n",
    "end"
   ]
  },
  {
   "cell_type": "code",
   "execution_count": 11,
   "id": "45e91c31-e7f2-4366-afa3-7c290e942283",
   "metadata": {},
   "outputs": [
    {
     "data": {
      "text/plain": [
       "Chain(\n",
       "    layer_1 = Conv((9,), 1 => 18, σ, pad=4),  \u001b[90m# 180 parameters\u001b[39m\n",
       "    layer_2 = Chain(\n",
       "        layer_1 = Conv((9,), 18 => 18, pad=4),  \u001b[90m# 2_934 parameters\u001b[39m\n",
       "        layer_2 = BatchNorm(18, σ, affine=true, track_stats=true),  \u001b[90m# 36 parameters\u001b[39m\u001b[90m, plus 37\u001b[39m\n",
       "    ),\n",
       "    layer_3 = Chain(\n",
       "        layer_1 = Conv((9,), 18 => 18, pad=4),  \u001b[90m# 2_934 parameters\u001b[39m\n",
       "        layer_2 = BatchNorm(18, σ, affine=true, track_stats=true),  \u001b[90m# 36 parameters\u001b[39m\u001b[90m, plus 37\u001b[39m\n",
       "    ),\n",
       "    layer_4 = Chain(\n",
       "        layer_1 = Conv((9,), 18 => 18, pad=4),  \u001b[90m# 2_934 parameters\u001b[39m\n",
       "        layer_2 = BatchNorm(18, σ, affine=true, track_stats=true),  \u001b[90m# 36 parameters\u001b[39m\u001b[90m, plus 37\u001b[39m\n",
       "    ),\n",
       "    layer_5 = Chain(\n",
       "        layer_1 = Conv((9,), 18 => 18, pad=4),  \u001b[90m# 2_934 parameters\u001b[39m\n",
       "        layer_2 = BatchNorm(18, σ, affine=true, track_stats=true),  \u001b[90m# 36 parameters\u001b[39m\u001b[90m, plus 37\u001b[39m\n",
       "    ),\n",
       "    layer_6 = Chain(\n",
       "        layer_1 = Conv((9,), 18 => 18, pad=4),  \u001b[90m# 2_934 parameters\u001b[39m\n",
       "        layer_2 = BatchNorm(18, σ, affine=true, track_stats=true),  \u001b[90m# 36 parameters\u001b[39m\u001b[90m, plus 37\u001b[39m\n",
       "    ),\n",
       "    layer_7 = Chain(\n",
       "        layer_1 = Conv((9,), 18 => 18, pad=4),  \u001b[90m# 2_934 parameters\u001b[39m\n",
       "        layer_2 = BatchNorm(18, σ, affine=true, track_stats=true),  \u001b[90m# 36 parameters\u001b[39m\u001b[90m, plus 37\u001b[39m\n",
       "    ),\n",
       "    layer_8 = Dropout(0.2),\n",
       "    layer_9 = Conv((1,), 18 => 1),      \u001b[90m# 19 parameters\u001b[39m\n",
       ") \u001b[90m        # Total: \u001b[39m18_019 parameters,\n",
       "\u001b[90m          #        plus \u001b[39m224 states."
      ]
     },
     "execution_count": 11,
     "metadata": {},
     "output_type": "execute_result"
    }
   ],
   "source": [
    "model = Chain(\n",
    "        Conv((9,), 1=>18, sigmoid, pad=SamePad()),\n",
    "        [Chain(Conv((9,), 18=>18, pad=SamePad()), BatchNorm(18, sigmoid)) for _ in 1:6]...,\n",
    "        Dropout(0.2),\n",
    "        Conv((1,), 18=>1, pad=SamePad())\n",
    "    )"
   ]
  },
  {
   "cell_type": "code",
   "execution_count": 12,
   "id": "15f706d2-940b-4b2e-a23e-edbdfa667326",
   "metadata": {},
   "outputs": [],
   "source": [
    "ps, st = Lux.setup(rng, model)\n",
    "ps_ca = ComponentArray(ps)\n",
    "nothing"
   ]
  },
  {
   "cell_type": "code",
   "execution_count": 13,
   "id": "fbe6741e-76ff-47b0-bbd1-f0fee5e34ecb",
   "metadata": {},
   "outputs": [
    {
     "data": {
      "text/plain": [
       "loss (generic function with 1 method)"
      ]
     },
     "execution_count": 13,
     "metadata": {},
     "output_type": "execute_result"
    }
   ],
   "source": [
    "function loss(p, (i_data,o_data))\n",
    "    model_d = Lux.apply(model,i_data,p, st)[1]\n",
    "#    print(size(i_data))\n",
    "#    return negr2(vec(model_d),vec(o_data))\n",
    "    c = cor(vec(model_d),vec(o_data))\n",
    "    return -c/(1-c) # stretch the range to -infty to +infty\n",
    "end"
   ]
  },
  {
   "cell_type": "code",
   "execution_count": 14,
   "id": "c20982c0-f948-4501-a44f-e5dc140290e4",
   "metadata": {},
   "outputs": [
    {
     "data": {
      "text/plain": [
       "callback2 (generic function with 1 method)"
      ]
     },
     "execution_count": 14,
     "metadata": {},
     "output_type": "execute_result"
    }
   ],
   "source": [
    "losses = []\n",
    "corrs = []\n",
    "bestpara = nothing\n",
    "bestc = 0.0\n",
    "\n",
    "function callback(state, l)\n",
    "    model_d = Lux.apply(model,i_test,state.u, st)[1]\n",
    "    c = cor(vec(model_d),vec(o_test))\n",
    "    if c > bestc\n",
    "        global bestc = c\n",
    "        global bestpara = state.u\n",
    "    end\n",
    "    push!(losses,l)\n",
    "    push!(corrs,c)\n",
    "    state.iter % 50 == 1 && @printf \"Iteration: %5d, Loss: %.5g, Fidelity: %.5g\\n\" state.iter l c\n",
    "    return false\n",
    "end\n",
    "\n",
    "function callback2(state, l)\n",
    "    model_d = Lux.apply(model,i_test,state.u, st)[1]\n",
    "    c = cor(vec(model_d),vec(o_test))\n",
    "    if c > bestc\n",
    "        global bestc = c\n",
    "        global bestpara = state.u\n",
    "    end\n",
    "    push!(losses,l)\n",
    "    push!(corrs,c)\n",
    "    @printf \"Iteration: %5d, Loss: %.5g, Fidelity: %.5g\\n\" state.iter l c\n",
    "    return false\n",
    "end"
   ]
  },
  {
   "cell_type": "code",
   "execution_count": 15,
   "id": "e6022fc1-5b2c-4bdb-a8f4-f77f4fbd3206",
   "metadata": {},
   "outputs": [
    {
     "data": {
      "text/plain": [
       "Adam(0.0001, (0.9, 0.999), 1.0e-8)"
      ]
     },
     "execution_count": 15,
     "metadata": {},
     "output_type": "execute_result"
    }
   ],
   "source": [
    "opt_func = OptimizationFunction(loss, Optimization.AutoZygote())\n",
    "opt_prob = OptimizationProblem(opt_func, ps_ca, test_dataloader)\n",
    "opt = Adam(1e-4)"
   ]
  },
  {
   "cell_type": "code",
   "execution_count": 16,
   "id": "2edeb391-c92d-49ee-9405-81630587b8ee",
   "metadata": {},
   "outputs": [
    {
     "ename": "LoadError",
     "evalue": "UndefVarError: `x` not defined in local scope\nSuggestion: check for an assignment to a local variable that shadows a global of the same name.",
     "output_type": "error",
     "traceback": [
      "UndefVarError: `x` not defined in local scope\nSuggestion: check for an assignment to a local variable that shadows a global of the same name.",
      "",
      "Stacktrace:",
      " [1] __solve(cache::OptimizationCache{OptimizationFunction{true, AutoZygote, typeof(loss), OptimizationZygoteExt.var\"#grad#14\"{Tuple{Array{Float32, 3}, Array{Float32, 3}}, OptimizationFunction{true, AutoZygote, typeof(loss), Nothing, Nothing, Nothing, Nothing, Nothing, Nothing, Nothing, Nothing, Nothing, Nothing, Nothing, Nothing, Nothing, typeof(SciMLBase.DEFAULT_OBSERVED_NO_TIME), Nothing, Nothing, Nothing, Nothing, Nothing, Nothing, Nothing, Nothing, Nothing, Nothing}, AutoZygote}, OptimizationZygoteExt.var\"#fg!#16\"{Tuple{Array{Float32, 3}, Array{Float32, 3}}, OptimizationFunction{true, AutoZygote, typeof(loss), Nothing, Nothing, Nothing, Nothing, Nothing, Nothing, Nothing, Nothing, Nothing, Nothing, Nothing, Nothing, Nothing, typeof(SciMLBase.DEFAULT_OBSERVED_NO_TIME), Nothing, Nothing, Nothing, Nothing, Nothing, Nothing, Nothing, Nothing, Nothing, Nothing}, AutoZygote}, Nothing, Nothing, Nothing, Nothing, Nothing, Nothing, Nothing, Nothing, Nothing, Nothing, Nothing, typeof(SciMLBase.DEFAULT_OBSERVED_NO_TIME), Nothing, Nothing, Nothing, Nothing, Nothing, Nothing, Nothing, Nothing, Nothing, Nothing}, OptimizationBase.ReInitCache{ComponentVector{Float32, Vector{Float32}, Tuple{Axis{(layer_1 = ViewAxis(1:180, Axis(weight = ViewAxis(1:162, ShapedAxis((9, 1, 18))), bias = 163:180)), layer_2 = ViewAxis(181:3150, Axis(layer_1 = ViewAxis(1:2934, Axis(weight = ViewAxis(1:2916, ShapedAxis((9, 18, 18))), bias = 2917:2934)), layer_2 = ViewAxis(2935:2970, Axis(scale = 1:18, bias = 19:36)))), layer_3 = ViewAxis(3151:6120, Axis(layer_1 = ViewAxis(1:2934, Axis(weight = ViewAxis(1:2916, ShapedAxis((9, 18, 18))), bias = 2917:2934)), layer_2 = ViewAxis(2935:2970, Axis(scale = 1:18, bias = 19:36)))), layer_4 = ViewAxis(6121:9090, Axis(layer_1 = ViewAxis(1:2934, Axis(weight = ViewAxis(1:2916, ShapedAxis((9, 18, 18))), bias = 2917:2934)), layer_2 = ViewAxis(2935:2970, Axis(scale = 1:18, bias = 19:36)))), layer_5 = ViewAxis(9091:12060, Axis(layer_1 = ViewAxis(1:2934, Axis(weight = ViewAxis(1:2916, ShapedAxis((9, 18, 18))), bias = 2917:2934)), layer_2 = ViewAxis(2935:2970, Axis(scale = 1:18, bias = 19:36)))), layer_6 = ViewAxis(12061:15030, Axis(layer_1 = ViewAxis(1:2934, Axis(weight = ViewAxis(1:2916, ShapedAxis((9, 18, 18))), bias = 2917:2934)), layer_2 = ViewAxis(2935:2970, Axis(scale = 1:18, bias = 19:36)))), layer_7 = ViewAxis(15031:18000, Axis(layer_1 = ViewAxis(1:2934, Axis(weight = ViewAxis(1:2916, ShapedAxis((9, 18, 18))), bias = 2917:2934)), layer_2 = ViewAxis(2935:2970, Axis(scale = 1:18, bias = 19:36)))), layer_8 = 18001:18000, layer_9 = ViewAxis(18001:18019, Axis(weight = ViewAxis(1:18, ShapedAxis((1, 18, 1))), bias = 19:19)))}}}, DataLoader{Tuple{Array{Float32, 3}, Array{Float32, 3}}, TaskLocalRNG, Val{nothing}}}, Nothing, Nothing, Nothing, Nothing, Nothing, Adam, Bool, typeof(callback), Nothing})",
      "   @ OptimizationOptimisers ~/.julia/packages/OptimizationOptimisers/JgTMl/src/OptimizationOptimisers.jl:155",
      " [2] solve!(cache::OptimizationCache{OptimizationFunction{true, AutoZygote, typeof(loss), OptimizationZygoteExt.var\"#grad#14\"{Tuple{Array{Float32, 3}, Array{Float32, 3}}, OptimizationFunction{true, AutoZygote, typeof(loss), Nothing, Nothing, Nothing, Nothing, Nothing, Nothing, Nothing, Nothing, Nothing, Nothing, Nothing, Nothing, Nothing, typeof(SciMLBase.DEFAULT_OBSERVED_NO_TIME), Nothing, Nothing, Nothing, Nothing, Nothing, Nothing, Nothing, Nothing, Nothing, Nothing}, AutoZygote}, OptimizationZygoteExt.var\"#fg!#16\"{Tuple{Array{Float32, 3}, Array{Float32, 3}}, OptimizationFunction{true, AutoZygote, typeof(loss), Nothing, Nothing, Nothing, Nothing, Nothing, Nothing, Nothing, Nothing, Nothing, Nothing, Nothing, Nothing, Nothing, typeof(SciMLBase.DEFAULT_OBSERVED_NO_TIME), Nothing, Nothing, Nothing, Nothing, Nothing, Nothing, Nothing, Nothing, Nothing, Nothing}, AutoZygote}, Nothing, Nothing, Nothing, Nothing, Nothing, Nothing, Nothing, Nothing, Nothing, Nothing, Nothing, typeof(SciMLBase.DEFAULT_OBSERVED_NO_TIME), Nothing, Nothing, Nothing, Nothing, Nothing, Nothing, Nothing, Nothing, Nothing, Nothing}, OptimizationBase.ReInitCache{ComponentVector{Float32, Vector{Float32}, Tuple{Axis{(layer_1 = ViewAxis(1:180, Axis(weight = ViewAxis(1:162, ShapedAxis((9, 1, 18))), bias = 163:180)), layer_2 = ViewAxis(181:3150, Axis(layer_1 = ViewAxis(1:2934, Axis(weight = ViewAxis(1:2916, ShapedAxis((9, 18, 18))), bias = 2917:2934)), layer_2 = ViewAxis(2935:2970, Axis(scale = 1:18, bias = 19:36)))), layer_3 = ViewAxis(3151:6120, Axis(layer_1 = ViewAxis(1:2934, Axis(weight = ViewAxis(1:2916, ShapedAxis((9, 18, 18))), bias = 2917:2934)), layer_2 = ViewAxis(2935:2970, Axis(scale = 1:18, bias = 19:36)))), layer_4 = ViewAxis(6121:9090, Axis(layer_1 = ViewAxis(1:2934, Axis(weight = ViewAxis(1:2916, ShapedAxis((9, 18, 18))), bias = 2917:2934)), layer_2 = ViewAxis(2935:2970, Axis(scale = 1:18, bias = 19:36)))), layer_5 = ViewAxis(9091:12060, Axis(layer_1 = ViewAxis(1:2934, Axis(weight = ViewAxis(1:2916, ShapedAxis((9, 18, 18))), bias = 2917:2934)), layer_2 = ViewAxis(2935:2970, Axis(scale = 1:18, bias = 19:36)))), layer_6 = ViewAxis(12061:15030, Axis(layer_1 = ViewAxis(1:2934, Axis(weight = ViewAxis(1:2916, ShapedAxis((9, 18, 18))), bias = 2917:2934)), layer_2 = ViewAxis(2935:2970, Axis(scale = 1:18, bias = 19:36)))), layer_7 = ViewAxis(15031:18000, Axis(layer_1 = ViewAxis(1:2934, Axis(weight = ViewAxis(1:2916, ShapedAxis((9, 18, 18))), bias = 2917:2934)), layer_2 = ViewAxis(2935:2970, Axis(scale = 1:18, bias = 19:36)))), layer_8 = 18001:18000, layer_9 = ViewAxis(18001:18019, Axis(weight = ViewAxis(1:18, ShapedAxis((1, 18, 1))), bias = 19:19)))}}}, DataLoader{Tuple{Array{Float32, 3}, Array{Float32, 3}}, TaskLocalRNG, Val{nothing}}}, Nothing, Nothing, Nothing, Nothing, Nothing, Adam, Bool, typeof(callback), Nothing})",
      "   @ SciMLBase ~/.julia/packages/SciMLBase/RJzsP/src/solve.jl:186",
      " [3] solve(::OptimizationProblem{true, OptimizationFunction{true, AutoZygote, typeof(loss), Nothing, Nothing, Nothing, Nothing, Nothing, Nothing, Nothing, Nothing, Nothing, Nothing, Nothing, Nothing, Nothing, typeof(SciMLBase.DEFAULT_OBSERVED_NO_TIME), Nothing, Nothing, Nothing, Nothing, Nothing, Nothing, Nothing, Nothing, Nothing, Nothing}, ComponentVector{Float32, Vector{Float32}, Tuple{Axis{(layer_1 = ViewAxis(1:180, Axis(weight = ViewAxis(1:162, ShapedAxis((9, 1, 18))), bias = 163:180)), layer_2 = ViewAxis(181:3150, Axis(layer_1 = ViewAxis(1:2934, Axis(weight = ViewAxis(1:2916, ShapedAxis((9, 18, 18))), bias = 2917:2934)), layer_2 = ViewAxis(2935:2970, Axis(scale = 1:18, bias = 19:36)))), layer_3 = ViewAxis(3151:6120, Axis(layer_1 = ViewAxis(1:2934, Axis(weight = ViewAxis(1:2916, ShapedAxis((9, 18, 18))), bias = 2917:2934)), layer_2 = ViewAxis(2935:2970, Axis(scale = 1:18, bias = 19:36)))), layer_4 = ViewAxis(6121:9090, Axis(layer_1 = ViewAxis(1:2934, Axis(weight = ViewAxis(1:2916, ShapedAxis((9, 18, 18))), bias = 2917:2934)), layer_2 = ViewAxis(2935:2970, Axis(scale = 1:18, bias = 19:36)))), layer_5 = ViewAxis(9091:12060, Axis(layer_1 = ViewAxis(1:2934, Axis(weight = ViewAxis(1:2916, ShapedAxis((9, 18, 18))), bias = 2917:2934)), layer_2 = ViewAxis(2935:2970, Axis(scale = 1:18, bias = 19:36)))), layer_6 = ViewAxis(12061:15030, Axis(layer_1 = ViewAxis(1:2934, Axis(weight = ViewAxis(1:2916, ShapedAxis((9, 18, 18))), bias = 2917:2934)), layer_2 = ViewAxis(2935:2970, Axis(scale = 1:18, bias = 19:36)))), layer_7 = ViewAxis(15031:18000, Axis(layer_1 = ViewAxis(1:2934, Axis(weight = ViewAxis(1:2916, ShapedAxis((9, 18, 18))), bias = 2917:2934)), layer_2 = ViewAxis(2935:2970, Axis(scale = 1:18, bias = 19:36)))), layer_8 = 18001:18000, layer_9 = ViewAxis(18001:18019, Axis(weight = ViewAxis(1:18, ShapedAxis((1, 18, 1))), bias = 19:19)))}}}, DataLoader{Tuple{Array{Float32, 3}, Array{Float32, 3}}, TaskLocalRNG, Val{nothing}}, Nothing, Nothing, Nothing, Nothing, Nothing, Nothing, @Kwargs{}}, ::Adam; kwargs::@Kwargs{callback::typeof(callback), maxiters::Int64})",
      "   @ SciMLBase ~/.julia/packages/SciMLBase/RJzsP/src/solve.jl:94",
      " [4] top-level scope",
      "   @ In[16]:2"
     ]
    }
   ],
   "source": [
    "epochs = 10\n",
    "res_adam = solve(opt_prob, opt; callback, maxiters = epochs)"
   ]
  },
  {
   "cell_type": "code",
   "execution_count": 17,
   "id": "b54c03d5-e1d5-4f73-bc26-0b816554e1ea",
   "metadata": {},
   "outputs": [
    {
     "data": {
      "text/plain": [
       "(0.22671476f0, 0.24884558f0)"
      ]
     },
     "execution_count": 17,
     "metadata": {},
     "output_type": "execute_result"
    }
   ],
   "source": [
    "cor(vec(i_test),vec(o_test)), cor(vec(i_train),vec(o_train))"
   ]
  },
  {
   "cell_type": "code",
   "execution_count": 18,
   "id": "b0885ee2-11a4-4670-afd3-0922a3b56b35",
   "metadata": {},
   "outputs": [
    {
     "ename": "LoadError",
     "evalue": "type Nothing has no field layer_1",
     "output_type": "error",
     "traceback": [
      "type Nothing has no field layer_1",
      "",
      "Stacktrace:",
      " [1] getproperty",
      "   @ ./Base.jl:49 [inlined]",
      " [2] macro expansion",
      "   @ ~/.julia/packages/Lux/H3WdN/src/layers/containers.jl:0 [inlined]",
      " [3] applychain(layers::@NamedTuple{layer_1::Conv{typeof(σ), Int64, Int64, Tuple{Int64}, Tuple{Int64}, Tuple{Int64, Int64}, Tuple{Int64}, Int64, Nothing, Nothing, Static.True, Static.False}, layer_2::Chain{@NamedTuple{layer_1::Conv{typeof(identity), Int64, Int64, Tuple{Int64}, Tuple{Int64}, Tuple{Int64, Int64}, Tuple{Int64}, Int64, Nothing, Nothing, Static.True, Static.False}, layer_2::BatchNorm{typeof(σ), Float32, Float32, Int64, typeof(zeros32), typeof(ones32), Static.True, Static.True}}, Nothing}, layer_3::Chain{@NamedTuple{layer_1::Conv{typeof(identity), Int64, Int64, Tuple{Int64}, Tuple{Int64}, Tuple{Int64, Int64}, Tuple{Int64}, Int64, Nothing, Nothing, Static.True, Static.False}, layer_2::BatchNorm{typeof(σ), Float32, Float32, Int64, typeof(zeros32), typeof(ones32), Static.True, Static.True}}, Nothing}, layer_4::Chain{@NamedTuple{layer_1::Conv{typeof(identity), Int64, Int64, Tuple{Int64}, Tuple{Int64}, Tuple{Int64, Int64}, Tuple{Int64}, Int64, Nothing, Nothing, Static.True, Static.False}, layer_2::BatchNorm{typeof(σ), Float32, Float32, Int64, typeof(zeros32), typeof(ones32), Static.True, Static.True}}, Nothing}, layer_5::Chain{@NamedTuple{layer_1::Conv{typeof(identity), Int64, Int64, Tuple{Int64}, Tuple{Int64}, Tuple{Int64, Int64}, Tuple{Int64}, Int64, Nothing, Nothing, Static.True, Static.False}, layer_2::BatchNorm{typeof(σ), Float32, Float32, Int64, typeof(zeros32), typeof(ones32), Static.True, Static.True}}, Nothing}, layer_6::Chain{@NamedTuple{layer_1::Conv{typeof(identity), Int64, Int64, Tuple{Int64}, Tuple{Int64}, Tuple{Int64, Int64}, Tuple{Int64}, Int64, Nothing, Nothing, Static.True, Static.False}, layer_2::BatchNorm{typeof(σ), Float32, Float32, Int64, typeof(zeros32), typeof(ones32), Static.True, Static.True}}, Nothing}, layer_7::Chain{@NamedTuple{layer_1::Conv{typeof(identity), Int64, Int64, Tuple{Int64}, Tuple{Int64}, Tuple{Int64, Int64}, Tuple{Int64}, Int64, Nothing, Nothing, Static.True, Static.False}, layer_2::BatchNorm{typeof(σ), Float32, Float32, Int64, typeof(zeros32), typeof(ones32), Static.True, Static.True}}, Nothing}, layer_8::Dropout{Float64, Colon}, layer_9::Conv{typeof(identity), Int64, Int64, Tuple{Int64}, Tuple{Int64}, Tuple{Int64, Int64}, Tuple{Int64}, Int64, Nothing, Nothing, Static.True, Static.False}}, x::SubArray{Float32, 3, Array{Float32, 3}, Tuple{Base.Slice{Base.OneTo{Int64}}, Base.Slice{Base.OneTo{Int64}}, UnitRange{Int64}}, true}, ps::Nothing, st::@NamedTuple{layer_1::@NamedTuple{}, layer_2::@NamedTuple{layer_1::@NamedTuple{}, layer_2::@NamedTuple{running_mean::Vector{Float32}, running_var::Vector{Float32}, training::Val{true}}}, layer_3::@NamedTuple{layer_1::@NamedTuple{}, layer_2::@NamedTuple{running_mean::Vector{Float32}, running_var::Vector{Float32}, training::Val{true}}}, layer_4::@NamedTuple{layer_1::@NamedTuple{}, layer_2::@NamedTuple{running_mean::Vector{Float32}, running_var::Vector{Float32}, training::Val{true}}}, layer_5::@NamedTuple{layer_1::@NamedTuple{}, layer_2::@NamedTuple{running_mean::Vector{Float32}, running_var::Vector{Float32}, training::Val{true}}}, layer_6::@NamedTuple{layer_1::@NamedTuple{}, layer_2::@NamedTuple{running_mean::Vector{Float32}, running_var::Vector{Float32}, training::Val{true}}}, layer_7::@NamedTuple{layer_1::@NamedTuple{}, layer_2::@NamedTuple{running_mean::Vector{Float32}, running_var::Vector{Float32}, training::Val{true}}}, layer_8::@NamedTuple{rng::MersenneTwister, training::Val{true}}, layer_9::@NamedTuple{}})",
      "   @ Lux ~/.julia/packages/Lux/H3WdN/src/layers/containers.jl:482",
      " [4] (::Chain{@NamedTuple{layer_1::Conv{typeof(σ), Int64, Int64, Tuple{Int64}, Tuple{Int64}, Tuple{Int64, Int64}, Tuple{Int64}, Int64, Nothing, Nothing, Static.True, Static.False}, layer_2::Chain{@NamedTuple{layer_1::Conv{typeof(identity), Int64, Int64, Tuple{Int64}, Tuple{Int64}, Tuple{Int64, Int64}, Tuple{Int64}, Int64, Nothing, Nothing, Static.True, Static.False}, layer_2::BatchNorm{typeof(σ), Float32, Float32, Int64, typeof(zeros32), typeof(ones32), Static.True, Static.True}}, Nothing}, layer_3::Chain{@NamedTuple{layer_1::Conv{typeof(identity), Int64, Int64, Tuple{Int64}, Tuple{Int64}, Tuple{Int64, Int64}, Tuple{Int64}, Int64, Nothing, Nothing, Static.True, Static.False}, layer_2::BatchNorm{typeof(σ), Float32, Float32, Int64, typeof(zeros32), typeof(ones32), Static.True, Static.True}}, Nothing}, layer_4::Chain{@NamedTuple{layer_1::Conv{typeof(identity), Int64, Int64, Tuple{Int64}, Tuple{Int64}, Tuple{Int64, Int64}, Tuple{Int64}, Int64, Nothing, Nothing, Static.True, Static.False}, layer_2::BatchNorm{typeof(σ), Float32, Float32, Int64, typeof(zeros32), typeof(ones32), Static.True, Static.True}}, Nothing}, layer_5::Chain{@NamedTuple{layer_1::Conv{typeof(identity), Int64, Int64, Tuple{Int64}, Tuple{Int64}, Tuple{Int64, Int64}, Tuple{Int64}, Int64, Nothing, Nothing, Static.True, Static.False}, layer_2::BatchNorm{typeof(σ), Float32, Float32, Int64, typeof(zeros32), typeof(ones32), Static.True, Static.True}}, Nothing}, layer_6::Chain{@NamedTuple{layer_1::Conv{typeof(identity), Int64, Int64, Tuple{Int64}, Tuple{Int64}, Tuple{Int64, Int64}, Tuple{Int64}, Int64, Nothing, Nothing, Static.True, Static.False}, layer_2::BatchNorm{typeof(σ), Float32, Float32, Int64, typeof(zeros32), typeof(ones32), Static.True, Static.True}}, Nothing}, layer_7::Chain{@NamedTuple{layer_1::Conv{typeof(identity), Int64, Int64, Tuple{Int64}, Tuple{Int64}, Tuple{Int64, Int64}, Tuple{Int64}, Int64, Nothing, Nothing, Static.True, Static.False}, layer_2::BatchNorm{typeof(σ), Float32, Float32, Int64, typeof(zeros32), typeof(ones32), Static.True, Static.True}}, Nothing}, layer_8::Dropout{Float64, Colon}, layer_9::Conv{typeof(identity), Int64, Int64, Tuple{Int64}, Tuple{Int64}, Tuple{Int64, Int64}, Tuple{Int64}, Int64, Nothing, Nothing, Static.True, Static.False}}, Nothing})(x::SubArray{Float32, 3, Array{Float32, 3}, Tuple{Base.Slice{Base.OneTo{Int64}}, Base.Slice{Base.OneTo{Int64}}, UnitRange{Int64}}, true}, ps::Nothing, st::@NamedTuple{layer_1::@NamedTuple{}, layer_2::@NamedTuple{layer_1::@NamedTuple{}, layer_2::@NamedTuple{running_mean::Vector{Float32}, running_var::Vector{Float32}, training::Val{true}}}, layer_3::@NamedTuple{layer_1::@NamedTuple{}, layer_2::@NamedTuple{running_mean::Vector{Float32}, running_var::Vector{Float32}, training::Val{true}}}, layer_4::@NamedTuple{layer_1::@NamedTuple{}, layer_2::@NamedTuple{running_mean::Vector{Float32}, running_var::Vector{Float32}, training::Val{true}}}, layer_5::@NamedTuple{layer_1::@NamedTuple{}, layer_2::@NamedTuple{running_mean::Vector{Float32}, running_var::Vector{Float32}, training::Val{true}}}, layer_6::@NamedTuple{layer_1::@NamedTuple{}, layer_2::@NamedTuple{running_mean::Vector{Float32}, running_var::Vector{Float32}, training::Val{true}}}, layer_7::@NamedTuple{layer_1::@NamedTuple{}, layer_2::@NamedTuple{running_mean::Vector{Float32}, running_var::Vector{Float32}, training::Val{true}}}, layer_8::@NamedTuple{rng::MersenneTwister, training::Val{true}}, layer_9::@NamedTuple{}})",
      "   @ Lux ~/.julia/packages/Lux/H3WdN/src/layers/containers.jl:480",
      " [5] apply(model::Chain{@NamedTuple{layer_1::Conv{typeof(σ), Int64, Int64, Tuple{Int64}, Tuple{Int64}, Tuple{Int64, Int64}, Tuple{Int64}, Int64, Nothing, Nothing, Static.True, Static.False}, layer_2::Chain{@NamedTuple{layer_1::Conv{typeof(identity), Int64, Int64, Tuple{Int64}, Tuple{Int64}, Tuple{Int64, Int64}, Tuple{Int64}, Int64, Nothing, Nothing, Static.True, Static.False}, layer_2::BatchNorm{typeof(σ), Float32, Float32, Int64, typeof(zeros32), typeof(ones32), Static.True, Static.True}}, Nothing}, layer_3::Chain{@NamedTuple{layer_1::Conv{typeof(identity), Int64, Int64, Tuple{Int64}, Tuple{Int64}, Tuple{Int64, Int64}, Tuple{Int64}, Int64, Nothing, Nothing, Static.True, Static.False}, layer_2::BatchNorm{typeof(σ), Float32, Float32, Int64, typeof(zeros32), typeof(ones32), Static.True, Static.True}}, Nothing}, layer_4::Chain{@NamedTuple{layer_1::Conv{typeof(identity), Int64, Int64, Tuple{Int64}, Tuple{Int64}, Tuple{Int64, Int64}, Tuple{Int64}, Int64, Nothing, Nothing, Static.True, Static.False}, layer_2::BatchNorm{typeof(σ), Float32, Float32, Int64, typeof(zeros32), typeof(ones32), Static.True, Static.True}}, Nothing}, layer_5::Chain{@NamedTuple{layer_1::Conv{typeof(identity), Int64, Int64, Tuple{Int64}, Tuple{Int64}, Tuple{Int64, Int64}, Tuple{Int64}, Int64, Nothing, Nothing, Static.True, Static.False}, layer_2::BatchNorm{typeof(σ), Float32, Float32, Int64, typeof(zeros32), typeof(ones32), Static.True, Static.True}}, Nothing}, layer_6::Chain{@NamedTuple{layer_1::Conv{typeof(identity), Int64, Int64, Tuple{Int64}, Tuple{Int64}, Tuple{Int64, Int64}, Tuple{Int64}, Int64, Nothing, Nothing, Static.True, Static.False}, layer_2::BatchNorm{typeof(σ), Float32, Float32, Int64, typeof(zeros32), typeof(ones32), Static.True, Static.True}}, Nothing}, layer_7::Chain{@NamedTuple{layer_1::Conv{typeof(identity), Int64, Int64, Tuple{Int64}, Tuple{Int64}, Tuple{Int64, Int64}, Tuple{Int64}, Int64, Nothing, Nothing, Static.True, Static.False}, layer_2::BatchNorm{typeof(σ), Float32, Float32, Int64, typeof(zeros32), typeof(ones32), Static.True, Static.True}}, Nothing}, layer_8::Dropout{Float64, Colon}, layer_9::Conv{typeof(identity), Int64, Int64, Tuple{Int64}, Tuple{Int64}, Tuple{Int64, Int64}, Tuple{Int64}, Int64, Nothing, Nothing, Static.True, Static.False}}, Nothing}, x::SubArray{Float32, 3, Array{Float32, 3}, Tuple{Base.Slice{Base.OneTo{Int64}}, Base.Slice{Base.OneTo{Int64}}, UnitRange{Int64}}, true}, ps::Nothing, st::@NamedTuple{layer_1::@NamedTuple{}, layer_2::@NamedTuple{layer_1::@NamedTuple{}, layer_2::@NamedTuple{running_mean::Vector{Float32}, running_var::Vector{Float32}, training::Val{true}}}, layer_3::@NamedTuple{layer_1::@NamedTuple{}, layer_2::@NamedTuple{running_mean::Vector{Float32}, running_var::Vector{Float32}, training::Val{true}}}, layer_4::@NamedTuple{layer_1::@NamedTuple{}, layer_2::@NamedTuple{running_mean::Vector{Float32}, running_var::Vector{Float32}, training::Val{true}}}, layer_5::@NamedTuple{layer_1::@NamedTuple{}, layer_2::@NamedTuple{running_mean::Vector{Float32}, running_var::Vector{Float32}, training::Val{true}}}, layer_6::@NamedTuple{layer_1::@NamedTuple{}, layer_2::@NamedTuple{running_mean::Vector{Float32}, running_var::Vector{Float32}, training::Val{true}}}, layer_7::@NamedTuple{layer_1::@NamedTuple{}, layer_2::@NamedTuple{running_mean::Vector{Float32}, running_var::Vector{Float32}, training::Val{true}}}, layer_8::@NamedTuple{rng::MersenneTwister, training::Val{true}}, layer_9::@NamedTuple{}})",
      "   @ LuxCore ~/.julia/packages/LuxCore/Pl5NJ/src/LuxCore.jl:155",
      " [6] top-level scope",
      "   @ In[18]:1"
     ]
    }
   ],
   "source": [
    "cor(vec(Lux.apply(model,i_test,bestpara, st)[1]),vec(o_test)), cor(vec(Lux.apply(model,i_train,bestpara, st)[1]),vec(o_train))"
   ]
  },
  {
   "cell_type": "code",
   "execution_count": 19,
   "id": "ffaeeebe-1b49-4ede-bc49-8b72378d4aec",
   "metadata": {},
   "outputs": [
    {
     "ename": "LoadError",
     "evalue": "UndefVarError: `res_adam` not defined in `Main`\nSuggestion: check for spelling errors or missing imports.",
     "output_type": "error",
     "traceback": [
      "UndefVarError: `res_adam` not defined in `Main`\nSuggestion: check for spelling errors or missing imports.",
      "",
      "Stacktrace:",
      " [1] top-level scope",
      "   @ In[19]:1"
     ]
    }
   ],
   "source": [
    "cor(vec(Lux.apply(model,i_test,res_adam.u, st)[1]),vec(o_test)), cor(vec(Lux.apply(model,i_train,res_adam.u, st)[1]),vec(o_train))"
   ]
  },
  {
   "cell_type": "code",
   "execution_count": null,
   "id": "aea2b83a-b497-4c34-a176-2a6446d82ec4",
   "metadata": {},
   "outputs": [],
   "source": [
    "epochs_ = 50\n",
    "opt_prob_new = OptimizationProblem(opt_func, res_adam.u, (i_train,o_train))"
   ]
  },
  {
   "cell_type": "code",
   "execution_count": null,
   "id": "0fe23e45-fea6-412c-8e75-75f214efb94f",
   "metadata": {},
   "outputs": [],
   "source": [
    "res_bfgs = solve(opt_prob_new, LBFGS(); callback=callback2, maxiters = 500)"
   ]
  },
  {
   "cell_type": "code",
   "execution_count": null,
   "id": "dcb6613c-27d5-41c4-a80e-24c1a2577d25",
   "metadata": {},
   "outputs": [],
   "source": []
  }
 ],
 "metadata": {
  "kernelspec": {
   "display_name": "Julia 1.11.1",
   "language": "julia",
   "name": "julia-1.11"
  },
  "language_info": {
   "file_extension": ".jl",
   "mimetype": "application/julia",
   "name": "julia",
   "version": "1.11.1"
  }
 },
 "nbformat": 4,
 "nbformat_minor": 5
}
