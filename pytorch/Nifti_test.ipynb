{
 "cells": [
  {
   "cell_type": "code",
   "execution_count": 12,
   "metadata": {},
   "outputs": [
    {
     "name": "stdout",
     "output_type": "stream",
     "text": [
      "2.6.0+cu118\n",
      "MPS available: False\n",
      "CUDNN available: True\n"
     ]
    }
   ],
   "source": [
    "import torch\n",
    "import torch.nn as nn\n",
    "import torch.nn.functional as F\n",
    "from torch.utils.data import random_split, Dataset, DataLoader, TensorDataset\n",
    "\n",
    "print(torch.__version__)\n",
    "print(f\"MPS available: {torch.backends.mps.is_available()}\")\n",
    "print(f\"CUDNN available: {torch.backends.cudnn.is_available()}\")\n",
    "import glob\n",
    "\n",
    "from nilearn import image\n",
    "\n",
    "import nibabel as nib\n",
    "import numpy as np"
   ]
  },
  {
   "cell_type": "code",
   "execution_count": 13,
   "metadata": {},
   "outputs": [],
   "source": [
    "# torch.nn.Conv1d(in_channels, out_channels, kernel_size, stride=1, padding=0, dilation=1, groups=1, bias=True, padding_mode='zeros', device=None, dtype=None)\n",
    "class Net(nn.Module):\n",
    "    def __init__(self):\n",
    "        super(Net, self).__init__()\n",
    "        self.conv1 = nn.Conv1d(1, 18, 9, padding=\"same\")\n",
    "        self.conv2 = nn.Conv1d(18, 18, 9, padding=\"same\")\n",
    "        self.conv3 = nn.Conv1d(18, 1, 1, padding=\"same\")\n",
    "        self.bn = nn.BatchNorm1d(18)\n",
    "        self.dropout1 = nn.Dropout(0.10)\n",
    "        self.dropout2 = nn.Dropout(0.5)\n",
    "\n",
    "    def forward(self, x):\n",
    "        x = self.conv1(x)\n",
    "        x = F.sigmoid(x)\n",
    "        \n",
    "        x = self.conv2(x)\n",
    "        x = self.bn(x)\n",
    "        x = F.sigmoid(x)\n",
    "\n",
    "        x = self.dropout1(x)\n",
    "\n",
    "        x = self.conv2(x)\n",
    "        x = self.bn(x)\n",
    "        x = F.sigmoid(x)\n",
    "\n",
    "        x = self.dropout1(x)\n",
    "\n",
    "        x = self.conv2(x)\n",
    "        x = self.bn(x)\n",
    "        x = F.sigmoid(x)\n",
    "        \n",
    "        x = self.dropout1(x)\n",
    "\n",
    "        x = self.conv2(x)\n",
    "        x = self.bn(x)\n",
    "        x = F.sigmoid(x)\n",
    "\n",
    "        x = self.dropout1(x)\n",
    "\n",
    "        x = self.conv2(x)\n",
    "        x = self.bn(x)\n",
    "        x = F.sigmoid(x)\n",
    "        \n",
    "        x = self.dropout1(x)\n",
    "\n",
    "        x = self.conv2(x)\n",
    "        x = self.bn(x)\n",
    "        x = F.sigmoid(x)\n",
    "\n",
    "        x = self.dropout1(x)\n",
    "        \n",
    "        output = self.conv3(x)\n",
    "        \n",
    "        return output"
   ]
  },
  {
   "cell_type": "code",
   "execution_count": 14,
   "metadata": {},
   "outputs": [
    {
     "data": {
      "text/plain": [
       "Net(\n",
       "  (conv1): Conv1d(1, 18, kernel_size=(9,), stride=(1,), padding=same)\n",
       "  (conv2): Conv1d(18, 18, kernel_size=(9,), stride=(1,), padding=same)\n",
       "  (conv3): Conv1d(18, 1, kernel_size=(1,), stride=(1,), padding=same)\n",
       "  (bn): BatchNorm1d(18, eps=1e-05, momentum=0.1, affine=True, track_running_stats=True)\n",
       "  (dropout1): Dropout(p=0.1, inplace=False)\n",
       "  (dropout2): Dropout(p=0.5, inplace=False)\n",
       ")"
      ]
     },
     "execution_count": 14,
     "metadata": {},
     "output_type": "execute_result"
    }
   ],
   "source": [
    "# load model\n",
    "model_saved = Net()\n",
    "model_saved.load_state_dict(torch.load(\"test_bay2_50epochs.pt\", weights_only=True))\n",
    "model_saved.eval()\n",
    "model_saved.to(\"cuda\")\n"
   ]
  },
  {
   "cell_type": "code",
   "execution_count": 15,
   "metadata": {},
   "outputs": [
    {
     "name": "stdout",
     "output_type": "stream",
     "text": [
      "61\n"
     ]
    }
   ],
   "source": [
    "root_path = '/shared/datasets/private/bipolar'\n",
    "\n",
    "BD_key = '/derivatives/fmriprep/'\n",
    "\n",
    "BD_path = root_path + BD_key\n",
    "\n",
    "bold_key = '_space-MNI152NLin2009cAsym_desc-preproc_bold.nii.gz'\n",
    "\n",
    "file_ls = glob.glob(BD_path + '**/*' + bold_key, recursive=True)\n",
    "\n",
    "file_ls = [filename for filename in file_ls if 'task-rest_' in filename]\n",
    "file_ls = [filename for filename in file_ls if 'run-1' in filename]\n",
    "print(len(file_ls))\n",
    "\n",
    "def apply_bm_ts(img, bm_path = '/shared/home/zeming/utils/MNI152_T1_2mm_brain_mask.nii.gz'):\n",
    "    bm_mask_raw = nib.load(bm_path)\n",
    "\n",
    "    BM_THR = 0\n",
    "\n",
    "    # Binarize\n",
    "    bm_mask = image.resample_to_img(bm_mask_raw, img, interpolation = 'nearest').get_fdata()\n",
    "    bm_mask = bm_mask>BM_THR\n",
    "    affine = img.affine\n",
    "    header = img.header\n",
    "    # apply the gm mask to img\n",
    "    img = img.get_fdata()\n",
    "    img_masked = img[bm_mask,:]\n",
    "    img = np.zeros_like(img)  # Same shape as the original 4D image\n",
    "    # Place the masked data back into the 4D array at the corresponding voxel locations\n",
    "    img[bm_mask, :] = img_masked\n",
    "\n",
    "    img = nib.Nifti1Image(img, affine = affine, header = header)\n",
    "    return img"
   ]
  },
  {
   "cell_type": "code",
   "execution_count": 36,
   "metadata": {},
   "outputs": [
    {
     "data": {
      "text/plain": [
       "'/shared/datasets/private/bipolar/derivatives/fmriprep/sub-016/ses-bhb/func/sub-016_ses-bhb_task-rest_run-1_space-MNI152NLin2009cAsym_desc-preproc_bold.nii.gz'"
      ]
     },
     "execution_count": 36,
     "metadata": {},
     "output_type": "execute_result"
    }
   ],
   "source": [
    "file_ls[0]"
   ]
  },
  {
   "cell_type": "code",
   "execution_count": 16,
   "metadata": {},
   "outputs": [],
   "source": [
    "nifti_path = file_ls[0]\n",
    "\n",
    "# load data\n",
    "img = image.load_img(nifti_path)\n",
    "\n",
    "# apply brain mask\n",
    "img = apply_bm_ts(img)"
   ]
  },
  {
   "cell_type": "code",
   "execution_count": 17,
   "metadata": {},
   "outputs": [],
   "source": [
    "data = img.get_fdata()\n",
    "\n",
    "X, Y, Z, T = data.shape\n",
    "\n",
    "# Calculate mean and standard deviation for each voxel across the time dimension\n",
    "voxel_means = np.mean(data, axis=3, keepdims=True)\n",
    "voxel_stds = np.std(data, axis=3, keepdims=True)\n",
    "\n",
    "# Normalize the data for each voxel\n",
    "data = (data - voxel_means) / (voxel_stds + 1e-8)  # Add a small value to avoid division by zero\n",
    "\n",
    "# Reshape the data\n",
    "data_2d = data.reshape(-1, T)\n",
    "mean_np = voxel_means.reshape(-1, 1)\n",
    "std_np = voxel_stds.reshape(-1, 1)"
   ]
  },
  {
   "cell_type": "code",
   "execution_count": 18,
   "metadata": {},
   "outputs": [],
   "source": [
    "mask = ~np.all(data_2d == 0, axis=1)  # same as before\n",
    "\n",
    "valid_data = data_2d[mask]\n",
    "valid_means = mean_np[mask]\n",
    "valid_stds = std_np[mask]\n",
    "\n",
    "data_input = torch.from_numpy(valid_data).float().to(\"cuda\")\n",
    "data_input = data_input.unsqueeze(1)  # Add channel dimension\n",
    "\n"
   ]
  },
  {
   "cell_type": "code",
   "execution_count": 19,
   "metadata": {},
   "outputs": [],
   "source": [
    "batch_size = 12\n",
    "\n",
    "outputs = []\n",
    "\n",
    "with torch.no_grad():\n",
    "    for i in range(0, data_input.size(0), batch_size):\n",
    "        batch = data_input[i:i+batch_size]\n",
    "        out = model_saved(batch)  # shape: [B, 1, T] or whatever your model returns\n",
    "        outputs.append(out.cpu())\n",
    "\n",
    "outputs = torch.cat(outputs, dim=0).squeeze(1).numpy()"
   ]
  },
  {
   "cell_type": "code",
   "execution_count": 21,
   "metadata": {},
   "outputs": [],
   "source": [
    "output_denorm = outputs * valid_stds + valid_means\n",
    "result_denorm = np.zeros_like(data_2d)\n",
    "result_denorm[mask] = output_denorm\n",
    "\n",
    "result_denorm_4d = result_denorm.reshape(X, Y, Z, T)\n",
    "\n",
    "new_img_denorm = nib.Nifti1Image(result_denorm_4d, affine=img.affine, header=img.header)"
   ]
  },
  {
   "cell_type": "code",
   "execution_count": 35,
   "metadata": {},
   "outputs": [],
   "source": [
    "new_img_denorm.to_filename('test_bay2_50epochs.nii.gz')"
   ]
  }
 ],
 "metadata": {
  "kernelspec": {
   "display_name": "Preprocessing-X6m2IXXk",
   "language": "python",
   "name": "python3"
  },
  "language_info": {
   "codemirror_mode": {
    "name": "ipython",
    "version": 3
   },
   "file_extension": ".py",
   "mimetype": "text/x-python",
   "name": "python",
   "nbconvert_exporter": "python",
   "pygments_lexer": "ipython3",
   "version": "3.10.12"
  }
 },
 "nbformat": 4,
 "nbformat_minor": 2
}
