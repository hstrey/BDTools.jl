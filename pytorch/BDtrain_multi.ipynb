{
 "cells": [
  {
   "cell_type": "code",
   "execution_count": 1,
   "id": "f83c5b9f-1b03-43fd-acfa-4e130291c4da",
   "metadata": {},
   "outputs": [
    {
     "name": "stdout",
     "output_type": "stream",
     "text": [
      "Intel MKL WARNING: Support of Intel(R) Streaming SIMD Extensions 4.2 (Intel(R) SSE4.2) enabled only processors has been deprecated. Intel oneAPI Math Kernel Library 2025.0 will require Intel(R) Advanced Vector Extensions (Intel(R) AVX) instructions.\n",
      "Intel MKL WARNING: Support of Intel(R) Streaming SIMD Extensions 4.2 (Intel(R) SSE4.2) enabled only processors has been deprecated. Intel oneAPI Math Kernel Library 2025.0 will require Intel(R) Advanced Vector Extensions (Intel(R) AVX) instructions.\n",
      "2.2.2\n"
     ]
    }
   ],
   "source": [
    "import torch\n",
    "import torch.nn as nn\n",
    "import torch.nn.functional as F\n",
    "import torch.optim as optim\n",
    "from torch.utils.data import random_split, Dataset, DataLoader, TensorDataset\n",
    "from torchvision import datasets, transforms\n",
    "from torch.optim.lr_scheduler import StepLR\n",
    "import numpy as np\n",
    "import copy\n",
    "import random\n",
    "\n",
    "print(torch.__version__)"
   ]
  },
  {
   "cell_type": "code",
   "execution_count": 2,
   "id": "8c872b86-3a16-43e2-82dd-c486c9c61a61",
   "metadata": {},
   "outputs": [
    {
     "name": "stdout",
     "output_type": "stream",
     "text": [
      "using mps\n"
     ]
    }
   ],
   "source": [
    "# find correct device\n",
    "if torch.backends.mps.is_available():\n",
    "    print(\"using mps\")\n",
    "    device = torch.device(\"mps\")\n",
    "elif torch.cuda.is_available():\n",
    "    print(\"using cuda\")\n",
    "    device = torch.device(\"cuda\")\n",
    "else:\n",
    "    print(\"using cpu\")\n",
    "    device = torch.device(\"cpu\")"
   ]
  },
  {
   "cell_type": "code",
   "execution_count": 5,
   "id": "50bd95ec-97e0-422c-8467-e2d3416f072b",
   "metadata": {},
   "outputs": [],
   "source": [
    "data_dict_1 = np.load(\"gt_clean_e1.npz\")\n",
    "data_dict_2 = np.load(\"gt_clean_e2.npz\")\n",
    "data_dict_3 = np.load(\"gt_clean_e3.npz\")"
   ]
  },
  {
   "cell_type": "code",
   "execution_count": 6,
   "id": "28dd6cb9-b599-4259-acda-56a7c20ba7f2",
   "metadata": {},
   "outputs": [],
   "source": [
    "ori32_1 = torch.tensor(data_dict_1[\"ori64\"].transpose((2,1,0))[:,:,:].astype(np.float32))\n",
    "sim32_1 = torch.tensor(data_dict_1[\"sim64\"].transpose((2,1,0))[:,:,:].astype(np.float32))\n",
    "ori32means_1 = torch.tensor(data_dict_1[\"ori64means\"].transpose((2,1,0))[:,:,:].astype(np.float32))\n",
    "sim32means_1 = torch.tensor(data_dict_1[\"sim64means\"].transpose((2,1,0))[:,:,:].astype(np.float32))\n",
    "ori32sigmas_1 = torch.tensor(data_dict_1[\"ori64sigmas\"].transpose((2,1,0))[:,:,:].astype(np.float32))\n",
    "sim32sigmas_1 = torch.tensor(data_dict_1[\"sim64sigmas\"].transpose((2,1,0))[:,:,:].astype(np.float32))"
   ]
  },
  {
   "cell_type": "code",
   "execution_count": 7,
   "id": "affa66d3-f90b-4b76-a99c-5487942e1800",
   "metadata": {},
   "outputs": [],
   "source": [
    "ori32_2 = torch.tensor(data_dict_2[\"ori64\"].transpose((2,1,0))[:,:,:].astype(np.float32))\n",
    "sim32_2 = torch.tensor(data_dict_2[\"sim64\"].transpose((2,1,0))[:,:,:].astype(np.float32))\n",
    "ori32means_2 = torch.tensor(data_dict_2[\"ori64means\"].transpose((2,1,0))[:,:,:].astype(np.float32))\n",
    "sim32means_2 = torch.tensor(data_dict_2[\"sim64means\"].transpose((2,1,0))[:,:,:].astype(np.float32))\n",
    "ori32sigmas_2 = torch.tensor(data_dict_2[\"ori64sigmas\"].transpose((2,1,0))[:,:,:].astype(np.float32))\n",
    "sim32sigmas_2 = torch.tensor(data_dict_2[\"sim64sigmas\"].transpose((2,1,0))[:,:,:].astype(np.float32))"
   ]
  },
  {
   "cell_type": "code",
   "execution_count": 9,
   "id": "c12b1051-de11-4b65-8c20-7150efa83ef9",
   "metadata": {},
   "outputs": [],
   "source": [
    "ori32_3 = torch.tensor(data_dict_3[\"ori64\"].transpose((2,1,0))[:,:,:].astype(np.float32))\n",
    "sim32_3 = torch.tensor(data_dict_3[\"sim64\"].transpose((2,1,0))[:,:,:].astype(np.float32))\n",
    "ori32means_3 = torch.tensor(data_dict_3[\"ori64means\"].transpose((2,1,0))[:,:,:].astype(np.float32))\n",
    "sim32means_3 = torch.tensor(data_dict_3[\"sim64means\"].transpose((2,1,0))[:,:,:].astype(np.float32))\n",
    "ori32sigmas_3 = torch.tensor(data_dict_3[\"ori64sigmas\"].transpose((2,1,0))[:,:,:].astype(np.float32))\n",
    "sim32sigmas_3 = torch.tensor(data_dict_3[\"sim64sigmas\"].transpose((2,1,0))[:,:,:].astype(np.float32))"
   ]
  },
  {
   "cell_type": "code",
   "execution_count": 10,
   "id": "275ee9eb-2b2f-4677-a8b7-10f1dd39506f",
   "metadata": {},
   "outputs": [],
   "source": [
    "# torch.nn.Conv1d(in_channels, out_channels, kernel_size, stride=1, padding=0, dilation=1, groups=1, bias=True, padding_mode='zeros', device=None, dtype=None)\n",
    "class Net(nn.Module):\n",
    "    def __init__(self):\n",
    "        super(Net, self).__init__()\n",
    "        self.conv1 = nn.Conv1d(1, 18, 9, padding=\"same\")\n",
    "        self.conv2 = nn.Conv1d(18, 18, 9, padding=\"same\")\n",
    "        self.conv3 = nn.Conv1d(18, 1, 1, padding=\"same\")\n",
    "        self.bn = nn.BatchNorm1d(18)\n",
    "        self.dropout1 = nn.Dropout(0.10)\n",
    "        self.dropout2 = nn.Dropout(0.5)\n",
    "\n",
    "    def forward(self, x):\n",
    "        x = self.conv1(x)\n",
    "        x = F.sigmoid(x)\n",
    "        \n",
    "        x = self.conv2(x)\n",
    "        x = self.bn(x)\n",
    "        x = F.sigmoid(x)\n",
    "\n",
    "        x = self.dropout1(x)\n",
    "\n",
    "        x = self.conv2(x)\n",
    "        x = self.bn(x)\n",
    "        x = F.sigmoid(x)\n",
    "\n",
    "        x = self.dropout1(x)\n",
    "\n",
    "        x = self.conv2(x)\n",
    "        x = self.bn(x)\n",
    "        x = F.sigmoid(x)\n",
    "        \n",
    "        x = self.dropout1(x)\n",
    "\n",
    "        x = self.conv2(x)\n",
    "        x = self.bn(x)\n",
    "        x = F.sigmoid(x)\n",
    "\n",
    "        x = self.dropout1(x)\n",
    "\n",
    "        x = self.conv2(x)\n",
    "        x = self.bn(x)\n",
    "        x = F.sigmoid(x)\n",
    "        \n",
    "        x = self.dropout1(x)\n",
    "\n",
    "        x = self.conv2(x)\n",
    "        x = self.bn(x)\n",
    "        x = F.sigmoid(x)\n",
    "\n",
    "        x = self.dropout1(x)\n",
    "        \n",
    "        output = self.conv3(x)\n",
    "        \n",
    "        return output"
   ]
  },
  {
   "cell_type": "code",
   "execution_count": 12,
   "id": "9492d449-bfd5-42ee-819b-507dfa58778a",
   "metadata": {},
   "outputs": [
    {
     "data": {
      "text/plain": [
       "Net(\n",
       "  (conv1): Conv1d(1, 18, kernel_size=(9,), stride=(1,), padding=same)\n",
       "  (conv2): Conv1d(18, 18, kernel_size=(9,), stride=(1,), padding=same)\n",
       "  (conv3): Conv1d(18, 1, kernel_size=(1,), stride=(1,), padding=same)\n",
       "  (bn): BatchNorm1d(18, eps=1e-05, momentum=0.1, affine=True, track_running_stats=True)\n",
       "  (dropout1): Dropout(p=0.1, inplace=False)\n",
       "  (dropout2): Dropout(p=0.5, inplace=False)\n",
       ")"
      ]
     },
     "execution_count": 12,
     "metadata": {},
     "output_type": "execute_result"
    }
   ],
   "source": [
    "# load model\n",
    "model1 = Net()\n",
    "model1.load_state_dict(torch.load(\"bd_clean_e1model.pt\", weights_only=True))\n",
    "model1.eval()\n",
    "model2 = Net()\n",
    "model2.load_state_dict(torch.load(\"bd_clean_e2model.pt\", weights_only=True))\n",
    "model2.eval()\n",
    "model3 = Net()\n",
    "model3.load_state_dict(torch.load(\"bd_clean_e3model.pt\", weights_only=True))\n",
    "model3.eval()"
   ]
  },
  {
   "cell_type": "code",
   "execution_count": 14,
   "id": "35510a00-68e1-4854-905d-05ea7cea9708",
   "metadata": {},
   "outputs": [
    {
     "name": "stdout",
     "output_type": "stream",
     "text": [
      "Corr dataset 1:  tensor(0.1288)\n",
      "Corr dataset 2:  tensor(0.3237)\n",
      "Corr dataset 3:  tensor(0.4450)\n"
     ]
    }
   ],
   "source": [
    "print(\"Corr dataset 1: \",torch.corrcoef(torch.stack((torch.flatten(ori32_1),torch.flatten(sim32_1)),dim=0))[1,0])\n",
    "print(\"Corr dataset 2: \",torch.corrcoef(torch.stack((torch.flatten(ori32_2),torch.flatten(sim32_2)),dim=0))[1,0])\n",
    "print(\"Corr dataset 3: \",torch.corrcoef(torch.stack((torch.flatten(ori32_3),torch.flatten(sim32_3)),dim=0))[1,0])"
   ]
  },
  {
   "cell_type": "code",
   "execution_count": 18,
   "id": "53c86fa9-ba27-42de-bcef-d6aaaa752b8d",
   "metadata": {},
   "outputs": [
    {
     "name": "stdout",
     "output_type": "stream",
     "text": [
      "Corr dataset cleaned1:  tensor(0.1608, grad_fn=<SelectBackward0>)\n",
      "Corr dataset cleaned2:  tensor(0.3491, grad_fn=<SelectBackward0>)\n",
      "Corr dataset cleaned3:  tensor(0.4649, grad_fn=<SelectBackward0>)\n"
     ]
    }
   ],
   "source": [
    "print(\"Corr dataset cleaned1: \",torch.corrcoef(torch.stack((torch.flatten(model1(ori32_1)),torch.flatten(sim32_1)),dim=0))[1,0])\n",
    "print(\"Corr dataset cleaned2: \",torch.corrcoef(torch.stack((torch.flatten(model2(ori32_2)),torch.flatten(sim32_2)),dim=0))[1,0])\n",
    "print(\"Corr dataset cleaned3: \",torch.corrcoef(torch.stack((torch.flatten(model3(ori32_3)),torch.flatten(sim32_3)),dim=0))[1,0])"
   ]
  },
  {
   "cell_type": "code",
   "execution_count": 19,
   "id": "90adbd53-86d4-400a-9ffd-6c3036ef45f0",
   "metadata": {},
   "outputs": [
    {
     "name": "stdout",
     "output_type": "stream",
     "text": [
      "Corr dataset cleaned1 (Model3):  tensor(0.1365, grad_fn=<SelectBackward0>)\n",
      "Corr dataset cleaned2 (Model3):  tensor(0.3371, grad_fn=<SelectBackward0>)\n",
      "Corr dataset cleaned3 (Model3):  tensor(0.4649, grad_fn=<SelectBackward0>)\n"
     ]
    }
   ],
   "source": [
    "print(\"Corr dataset cleaned1 (Model3): \",torch.corrcoef(torch.stack((torch.flatten(model3(ori32_1)),torch.flatten(sim32_1)),dim=0))[1,0])\n",
    "print(\"Corr dataset cleaned2 (Model3): \",torch.corrcoef(torch.stack((torch.flatten(model3(ori32_2)),torch.flatten(sim32_2)),dim=0))[1,0])\n",
    "print(\"Corr dataset cleaned3 (Model3): \",torch.corrcoef(torch.stack((torch.flatten(model3(ori32_3)),torch.flatten(sim32_3)),dim=0))[1,0])"
   ]
  },
  {
   "cell_type": "code",
   "execution_count": 20,
   "id": "2007a936-e816-4e86-8a93-e866b2563fcb",
   "metadata": {},
   "outputs": [
    {
     "name": "stdout",
     "output_type": "stream",
     "text": [
      "Corr dataset cleaned1 (Model2):  tensor(0.1490, grad_fn=<SelectBackward0>)\n",
      "Corr dataset cleaned2 (Model2):  tensor(0.3491, grad_fn=<SelectBackward0>)\n",
      "Corr dataset cleaned3 (Model2):  tensor(0.4446, grad_fn=<SelectBackward0>)\n"
     ]
    }
   ],
   "source": [
    "print(\"Corr dataset cleaned1 (Model2): \",torch.corrcoef(torch.stack((torch.flatten(model2(ori32_1)),torch.flatten(sim32_1)),dim=0))[1,0])\n",
    "print(\"Corr dataset cleaned2 (Model2): \",torch.corrcoef(torch.stack((torch.flatten(model2(ori32_2)),torch.flatten(sim32_2)),dim=0))[1,0])\n",
    "print(\"Corr dataset cleaned3 (Model2): \",torch.corrcoef(torch.stack((torch.flatten(model2(ori32_3)),torch.flatten(sim32_3)),dim=0))[1,0])"
   ]
  },
  {
   "cell_type": "code",
   "execution_count": 21,
   "id": "f24db22a-5d5a-443f-99b5-4da65533cff0",
   "metadata": {},
   "outputs": [
    {
     "name": "stdout",
     "output_type": "stream",
     "text": [
      "Corr dataset cleaned1 (Model1:  tensor(0.1608, grad_fn=<SelectBackward0>)\n",
      "Corr dataset cleaned2 (Model1):  tensor(0.3177, grad_fn=<SelectBackward0>)\n",
      "Corr dataset cleaned3 (Model1):  tensor(0.3993, grad_fn=<SelectBackward0>)\n"
     ]
    }
   ],
   "source": [
    "print(\"Corr dataset cleaned1 (Model1: \",torch.corrcoef(torch.stack((torch.flatten(model1(ori32_1)),torch.flatten(sim32_1)),dim=0))[1,0])\n",
    "print(\"Corr dataset cleaned2 (Model1): \",torch.corrcoef(torch.stack((torch.flatten(model1(ori32_2)),torch.flatten(sim32_2)),dim=0))[1,0])\n",
    "print(\"Corr dataset cleaned3 (Model1): \",torch.corrcoef(torch.stack((torch.flatten(model1(ori32_3)),torch.flatten(sim32_3)),dim=0))[1,0])"
   ]
  },
  {
   "cell_type": "code",
   "execution_count": null,
   "id": "5224abbb-1f8f-4416-9bf6-126e9971bf13",
   "metadata": {},
   "outputs": [],
   "source": []
  }
 ],
 "metadata": {
  "kernelspec": {
   "display_name": "Python 3 (ipykernel)",
   "language": "python",
   "name": "python3"
  },
  "language_info": {
   "codemirror_mode": {
    "name": "ipython",
    "version": 3
   },
   "file_extension": ".py",
   "mimetype": "text/x-python",
   "name": "python",
   "nbconvert_exporter": "python",
   "pygments_lexer": "ipython3",
   "version": "3.12.9"
  }
 },
 "nbformat": 4,
 "nbformat_minor": 5
}
